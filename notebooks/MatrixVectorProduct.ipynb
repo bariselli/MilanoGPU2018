{
 "cells": [
  {
   "cell_type": "markdown",
   "metadata": {},
   "source": [
    "# License\n",
    "\n",
    "    Jupyter notebook for accessing CUDA\n",
    "    Copyright (C) 2018 Andre.Brodtkorb@ifi.uio.no\n",
    "\n",
    "    This program is free software: you can redistribute it and/or modify\n",
    "    it under the terms of the GNU General Public License as published by\n",
    "    the Free Software Foundation, either version 3 of the License, or\n",
    "    (at your option) any later version.\n",
    "\n",
    "    This program is distributed in the hope that it will be useful,\n",
    "    but WITHOUT ANY WARRANTY; without even the implied warranty of\n",
    "    MERCHANTABILITY or FITNESS FOR A PARTICULAR PURPOSE.  See the\n",
    "    GNU General Public License for more details.\n",
    "\n",
    "    You should have received a copy of the GNU General Public License\n",
    "    along with this program.  If not, see <http://www.gnu.org/licenses/>."
   ]
  },
  {
   "cell_type": "code",
   "execution_count": 1,
   "metadata": {},
   "outputs": [],
   "source": [
    "#Lets have matplotlib \"inline\"\n",
    "%matplotlib inline\n",
    "\n",
    "#Import packages we need\n",
    "import numpy as np\n",
    "import pycuda.compiler as cuda_compiler\n",
    "from pycuda.gpuarray import GPUArray\n",
    "import pycuda.driver as cuda_driver\n",
    "\n",
    "from matplotlib import pyplot as plt"
   ]
  },
  {
   "cell_type": "code",
   "execution_count": 2,
   "metadata": {},
   "outputs": [],
   "source": [
    "#Initialize CUDA - must be first call to CUDA!\n",
    "cuda_driver.init()"
   ]
  },
  {
   "cell_type": "code",
   "execution_count": 3,
   "metadata": {},
   "outputs": [
    {
     "name": "stdout",
     "output_type": "stream",
     "text": [
      "Using 'Tesla K80'\n",
      " => compute capability: (3, 7)\n",
      " => memory: 9792 / 11441 MB available\n"
     ]
    }
   ],
   "source": [
    "#Create CUDA context\n",
    "cuda_device = cuda_driver.Device(0)\n",
    "print(\"Using '{:s}'\".format(cuda_device.name()))\n",
    "print(\" => compute capability: {:s}\".format(str(cuda_device.compute_capability())))\n",
    "context = cuda_device.make_context()\n",
    "free, total = cuda_driver.mem_get_info()\n",
    "print(\" => memory: {:d} / {:d} MB available\".format(int(free/(1024*1024)), int(total/(1024*1024))))"
   ]
  },
  {
   "cell_type": "code",
   "execution_count": 4,
   "metadata": {},
   "outputs": [
    {
     "name": "stdout",
     "output_type": "stream",
     "text": [
      "Seems fine\n",
      "\n"
     ]
    }
   ],
   "source": [
    "cuda_kernel = \"\"\"\n",
    "__global__ void addVectorKernel(float* c, float* a, float* b) {\n",
    "    unsigned int i = blockIdx.x*blockDim.x + threadIdx.x;\n",
    "    c[i] = a[i] + b[i];\n",
    "}\n",
    "\n",
    "__global__ void addMatrixKernel(float* c, float* a, float* b, int cols){\n",
    "    unsigned int i = blockIdx.x*blockDim.x + threadIdx.x;\n",
    "    unsigned int j = blockIdx.y*blockDim.y + threadIdx.y;\n",
    "    \n",
    "    // Some pseudo-code..\n",
    "    // c[j,i] = a[j,i] + b[j,i]\n",
    "    unsigned int k = j*cols + i; // linear index\n",
    "    \n",
    "    c[k] = a[k] + b[k];\n",
    "}\n",
    "\n",
    "// Create kernel that creates c = A*b\n",
    "__global__ void matrixVectorKernel(float* a, float* b, float* c, int a_cols) {\n",
    "  // note: write for loops that compute the vector-vector inner product of row \"j\" (of A)\n",
    "  // by vector \"b\", and store the result in \"c[j]\"\n",
    "  \n",
    "    unsigned int j = blockIdx.y*blockDim.y + threadIdx.y;\n",
    "    \n",
    "    unsigned int k;\n",
    "    \n",
    "  //  // Previous version\n",
    "  //  c[j] = 0.;\n",
    "  //  for(int i = 0; i < a_cols; ++i) {\n",
    "  //    k = j*a_cols + i;\n",
    "  //    c[j] += a[k]*b[i]; // HEY IT'S INEFFICIENT!!!!\n",
    "  //  }\n",
    "  \n",
    "    float sum = 0.0f; // this is a local variable, that lives in the local register!\n",
    "    for (int i = 0; i < a_cols; ++a) {\n",
    "      k = j*a_cols + i;\n",
    "      sum += a[k]*b[i];\n",
    "    }\n",
    "    c[j] = sum; // writes to global memory, the RAM (!)\n",
    "}\n",
    "\n",
    "\"\"\"\n",
    "module = cuda_compiler.SourceModule(cuda_kernel)\n",
    "# kernel = module.get_function(\"addVectorKernel\");\n",
    "# kernel = module.get_function(\"addMatrixKernel\");\n",
    "kernel = module.get_function(\"matrixVectorKernel\");\n",
    "print(\"Seems fine\\n\")\n"
   ]
  },
  {
   "cell_type": "code",
   "execution_count": 5,
   "metadata": {},
   "outputs": [
    {
     "name": "stdout",
     "output_type": "stream",
     "text": [
      "(4, 3)\n"
     ]
    }
   ],
   "source": [
    "# THe one here is just CPU code..\n",
    "#Size of our test\n",
    "# test_size = (64, 128)\n",
    "# test_size = (16, 24)\n",
    "test_size = (4, 3)\n",
    "# n = 50\n",
    "\n",
    "#Create test input / output data\n",
    "a = np.random.random(test_size).astype(np.float32)\n",
    "print(a.shape)"
   ]
  },
  {
   "cell_type": "code",
   "execution_count": 6,
   "metadata": {},
   "outputs": [
    {
     "name": "stdout",
     "output_type": "stream",
     "text": [
      "(3, 1)\n",
      "(4, 1)\n"
     ]
    },
    {
     "data": {
      "image/png": "[encoded data removed]",
      "text/plain": [
       "<matplotlib.figure.Figure at 0x7f6f06bb4080>"
      ]
     },
     "metadata": {
      "needs_background": "light"
     },
     "output_type": "display_data"
    }
   ],
   "source": [
    "b = np.random.random((test_size[1],1)).astype(np.float32)\n",
    "print(b.shape)\n",
    "# c = np.random.random((test_size[0],1)).astype(np.float32)\n",
    "c = np.empty((test_size[0],1)).astype(np.float32)\n",
    "print(c.shape)\n",
    "plt.figure()\n",
    "plt.imshow(c)\n",
    "plt.show()"
   ]
  },
  {
   "cell_type": "code",
   "execution_count": 8,
   "metadata": {},
   "outputs": [
    {
     "data": {
      "image/png": "[encoded data removed]",
      "text/plain": [
       "<matplotlib.figure.Figure at 0x7f6f04ac6940>"
      ]
     },
     "metadata": {
      "needs_background": "light"
     },
     "output_type": "display_data"
    }
   ],
   "source": [
    "# fig = plt.figure(figsize=(12,8))\n",
    "fig = plt.figure()\n",
    "plt.imshow(a)\n",
    "plt.colorbar()\n",
    "fig.show()"
   ]
  },
  {
   "cell_type": "raw",
   "metadata": {},
   "source": []
  },
  {
   "cell_type": "code",
   "execution_count": 9,
   "metadata": {},
   "outputs": [
    {
     "name": "stdout",
     "output_type": "stream",
     "text": [
      "(4, 3)\n"
     ]
    }
   ],
   "source": [
    "print(a.shape) # let's check what I'll send to the GPU... "
   ]
  },
  {
   "cell_type": "code",
   "execution_count": 10,
   "metadata": {},
   "outputs": [],
   "source": [
    "#Upload data to the device\n",
    "# NOTE: we need to make sure that a=(a_rows, a_cols) and that b=(a_cols,1) and \n",
    "# c=(a_rows,1)\n",
    "a_g = GPUArray(a.shape, np.float32) # create the variable\n",
    "b_g = GPUArray(b.shape, np.float32) # create the variable\n",
    "a_g.set(a) # put the value (import from CPU to GPU)\n",
    "b_g.set(b) # put the value (import from CPU to GPU)"
   ]
  },
  {
   "cell_type": "code",
   "execution_count": 11,
   "metadata": {},
   "outputs": [
    {
     "name": "stdout",
     "output_type": "stream",
     "text": [
      "(4, 1)\n"
     ]
    }
   ],
   "source": [
    "#Allocate output data\n",
    "c_g = GPUArray(c.shape, np.float32)\n",
    "print(c_g.shape) # test.."
   ]
  },
  {
   "cell_type": "code",
   "execution_count": 12,
   "metadata": {},
   "outputs": [
    {
     "name": "stdout",
     "output_type": "stream",
     "text": [
      "Domain size is (3, 4)\n",
      "Block size is (1, 1, 1)\n",
      "Grid size is (1, 4, 1)\n"
     ]
    }
   ],
   "source": [
    "# Let's create a couple of variables..\n",
    "# a.shape is [rows, columns] => [y, x]\n",
    "domain_size = (a.shape[1], a.shape[0]) # now the domain_size is [x,y]\n",
    "# Note: change so that x = 1, y = number of rows in \"a\"\n",
    "block_size = (1, 1, 1)\n",
    "grid_size = (1, c.shape[0], 1)\n",
    "\n",
    "print(\"Domain size is \" + str(domain_size))\n",
    "print(\"Block size is \" + str(block_size))\n",
    "print(\"Grid size is \" + str(grid_size))"
   ]
  },
  {
   "cell_type": "code",
   "execution_count": 13,
   "metadata": {},
   "outputs": [
    {
     "name": "stdout",
     "output_type": "stream",
     "text": [
      "(4, 3)\n"
     ]
    }
   ],
   "source": [
    "print(a.shape)"
   ]
  },
  {
   "cell_type": "code",
   "execution_count": null,
   "metadata": {},
   "outputs": [],
   "source": [
    "#Execute program on device\n",
    "# ATTENTION! SPECIFY int32!!!\n",
    "kernel(c_g, a_g, b_g, np.int32(a.shape[1]), block=block_size, grid=grid_size)\n",
    "\n",
    "#Copy data from device to host\n",
    "c_g.get(c)"
   ]
  },
  {
   "cell_type": "code",
   "execution_count": null,
   "metadata": {},
   "outputs": [],
   "source": [
    "#Compute reference using Numpy\n",
    "c_ref = np.dot(a,b)\n",
    "\n",
    "#Print result\n",
    "print(\"C   = \", c)\n",
    "print(\"Ref = \", c_ref)\n",
    "print(\"Sad = \", np.sum(np.abs(c - c_ref)))"
   ]
  },
  {
   "cell_type": "code",
   "execution_count": null,
   "metadata": {},
   "outputs": [],
   "source": [
    "plt.figure()\n",
    "plt.subplot(1,2,1)\n",
    "plt.imshow(c)\n",
    "plt.subplot(1,2,2)\n",
    "plt.imshow(c_ref)\n",
    "#plt.plot(c, '+r')\n",
    "#plt.plot(c_ref, 'xb')"
   ]
  },
  {
   "cell_type": "code",
   "execution_count": null,
   "metadata": {},
   "outputs": [],
   "source": []
  },
  {
   "cell_type": "code",
   "execution_count": null,
   "metadata": {},
   "outputs": [],
   "source": []
  }
 ],
 "metadata": {
  "kernelspec": {
   "display_name": "Python 3",
   "language": "python",
   "name": "python3"
  },
  "language_info": {
   "codemirror_mode": {
    "name": "ipython",
    "version": 3
   },
   "file_extension": ".py",
   "mimetype": "text/x-python",
   "name": "python",
   "nbconvert_exporter": "python",
   "pygments_lexer": "ipython3",
   "version": "3.6.6"
  }
 },
 "nbformat": 4,
 "nbformat_minor": 2
}
