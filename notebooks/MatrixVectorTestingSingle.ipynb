{
 "cells": [
  {
   "cell_type": "markdown",
   "metadata": {},
   "source": [
    "# License\n",
    "\n",
    "    Jupyter notebook for accessing CUDA\n",
    "    Copyright (C) 2018 Andre.Brodtkorb@ifi.uio.no, changed in October by André Brodtkorb\n",
    "\n",
    "    This program is free software: you can redistribute it and/or modify\n",
    "    it under the terms of the GNU General Public License as published by\n",
    "    the Free Software Foundation, either version 3 of the License, or\n",
    "    (at your option) any later version.\n",
    "\n",
    "    This program is distributed in the hope that it will be useful,\n",
    "    but WITHOUT ANY WARRANTY; without even the implied warranty of\n",
    "    MERCHANTABILITY or FITNESS FOR A PARTICULAR PURPOSE.  See the\n",
    "    GNU General Public License for more details.\n",
    "\n",
    "    You should have received a copy of the GNU General Public License\n",
    "    along with this program.  If not, see <http://www.gnu.org/licenses/>."
   ]
  },
  {
   "cell_type": "code",
   "execution_count": 1,
   "metadata": {},
   "outputs": [],
   "source": [
    "#Lets have matplotlib \"inline\"\n",
    "%matplotlib inline\n",
    "\n",
    "#Import packages we need\n",
    "import numpy as np\n",
    "import pycuda.compiler as cuda_compiler\n",
    "from pycuda.gpuarray import GPUArray\n",
    "import pycuda.driver as cuda_driver\n",
    "\n",
    "from matplotlib import pyplot as plt\n",
    "import IPythonMagic\n",
    "from Timer import Timer\n",
    "import logging\n"
   ]
  },
  {
   "cell_type": "code",
   "execution_count": 2,
   "metadata": {},
   "outputs": [],
   "source": [
    "# CHECK THIS\n",
    "import pytest\n",
    "from ipytest import run_pytest, clean_tests"
   ]
  },
  {
   "cell_type": "code",
   "execution_count": 3,
   "metadata": {},
   "outputs": [
    {
     "name": "stderr",
     "output_type": "stream",
     "text": [
      "Python version 3.6.6 (default, Sep 12 2018, 18:26:19) \n",
      "[GCC 8.0.1 20180414 (experimental) [trunk revision 259383]]\n",
      "Registering context in user workspace\n",
      "Creating context\n",
      "PyCUDA version 2018.1.1\n",
      "CUDA version (9, 1, 0)\n",
      "Driver version 10000\n",
      "Using 'Tesla K80' GPU\n",
      " => compute capability: (3, 7)\n",
      " => memory: 10674 / 11441 MB available\n",
      "Created context handle <52715520>\n",
      "Using CUDA cache dir /home/ubuntu/jupyter_notebooks/Stefano_B/MilanoGPU2018/notebooks/cuda_cache\n"
     ]
    }
   ],
   "source": [
    "%setup_logging\n",
    "%cuda_context_handler context"
   ]
  },
  {
   "cell_type": "code",
   "execution_count": 4,
   "metadata": {},
   "outputs": [],
   "source": [
    "cuda_kernel = \"\"\"\n",
    "__global__ void matrixVectorKernel(float* c, float* A, float* b, int a_rows, int a_cols) {\n",
    "    unsigned int j = blockIdx.x*blockDim.x + threadIdx.x;\n",
    "    \n",
    "    //Out of bounds check\n",
    "    if (j > a_rows) {\n",
    "        return;\n",
    "    }\n",
    "    \n",
    "    //Compute inner product of row of A with column of B\n",
    "    float sum = 0.0f;\n",
    "    for (int i=0; i<a_cols; ++i) {\n",
    "        unsigned int k = j*a_cols + i;\n",
    "        sum += A[k] * b[i];\n",
    "    }\n",
    "    \n",
    "    //Write to global memory\n",
    "    c[j] = sum;\n",
    "}\n",
    "\"\"\"\n",
    "module = cuda_compiler.SourceModule(cuda_kernel)\n",
    "kernel = module.get_function(\"matrixVectorKernel\");"
   ]
  },
  {
   "cell_type": "code",
   "execution_count": 24,
   "metadata": {},
   "outputs": [],
   "source": [
    "def gpuMatrixVector(a, b):\n",
    "    #Upload data to the device\n",
    "    #NOTE: We need to make sure that a=(a_rows, a_columns)\n",
    "    # and that b=(a_colmuns, 1) (column vector)\n",
    "    # and that c=(a_rows, 1)\n",
    "    with Timer(\"TIME create\", logging.INFO) as t_create:\n",
    "        a_g = GPUArray(a.shape, np.float32)\n",
    "        b_g = GPUArray(b.shape, np.float32)\n",
    "        context.synchronize()\n",
    "\n",
    "        \n",
    "    with Timer(\"TIME allocate\", logging.INFO) as t_allocate:\n",
    "        a_g.set(a)\n",
    "        b_g.set(b)\n",
    "        context.synchronize()\n",
    "\n",
    "    \n",
    "    #Allocate output data\n",
    "    c_g = GPUArray(a.shape[0], np.float32)\n",
    "    \n",
    "    #NOTE: We need to change this so that the grid*block is x = 1, y = number of rows in A\n",
    "    block_size = (2, 1, 1) #These need to be [x, y, z]\n",
    "    grid_size = (int(np.ceil(a.shape[0] / 128)), 1, 1)\n",
    "\n",
    "    print(\"Block size is \" + str(block_size))\n",
    "    print(\"Grid size is \" + str(grid_size))\n",
    "    \n",
    "    #Execute program on device\n",
    "    with Timer(\"TIME kernel\", logging.INFO) as t_kernel:\n",
    "        kernel(c_g, a_g, b_g, np.int32(a.shape[0]), np.int32(a.shape[1]), block=block_size, grid=grid_size)\n",
    "        context.synchronize()\n",
    "        \n",
    "    #Copy data from device to host\n",
    "    c = np.empty((a.shape[0],1), dtype=np.float32)\n",
    "    with Timer(\"TIME download\", logging.INFO) as t_get:\n",
    "        c_g.get(c)\n",
    "    \n",
    "    print(\"GPU code took \" + str(t_create.secs) + \" seconds\")\n",
    "    print(\"GPU code took \" + str(t_allocate.secs) + \" seconds\")\n",
    "    print(\"GPU code took \" + str(t_kernel.secs) + \" seconds\")\n",
    "    print(\"GPU code took \" + str(t_get.secs) + \" seconds\")\n",
    "    \n",
    "    # return our computed matrix vector product\n",
    "    return c"
   ]
  },
  {
   "cell_type": "code",
   "execution_count": 26,
   "metadata": {},
   "outputs": [
    {
     "name": "stderr",
     "output_type": "stream",
     "text": [
      "TIME create: 0.511408 ms\n",
      "TIME allocate: 0.453949 ms\n",
      "TIME kernel: 0.326872 ms\n",
      "/home/ubuntu/.local/lib/python3.6/site-packages/ipykernel_launcher.py:32: DeprecationWarning: get() between arrays of different shape is deprecated and will be removed in PyCUDA 2017.x\n",
      "TIME download: 0.498772 ms\n"
     ]
    },
    {
     "name": "stdout",
     "output_type": "stream",
     "text": [
      "Block size is (2, 1, 1)\n",
      "Grid size is (1, 1, 1)\n",
      "GPU code took 0.0005114078521728516 seconds\n",
      "GPU code took 0.000453948974609375 seconds\n",
      "GPU code took 0.0003268718719482422 seconds\n",
      "GPU code took 0.0004987716674804688 seconds\n"
     ]
    },
    {
     "data": {
      "image/png": "[encoded data removed]",
      "text/plain": [
       "<matplotlib.figure.Figure at 0x7fd53516aba8>"
      ]
     },
     "metadata": {
      "needs_background": "light"
     },
     "output_type": "display_data"
    }
   ],
   "source": [
    "#Size of our test\n",
    "test_size = (40, 30)\n",
    "\n",
    "#Create test input / output data\n",
    "a = np.random.random(test_size).astype(np.float32)\n",
    "b = np.random.random((test_size[1], 1)).astype(np.float32)\n",
    "c = gpuMatrixVector(a,b)\n",
    "\n",
    "fig = plt.figure()\n",
    "plt.subplot(1,3,1)\n",
    "plt.imshow(a)\n",
    "plt.subplot(1,3,2)\n",
    "plt.imshow(b)\n",
    "plt.subplot(1,3,3)\n",
    "plt.imshow(c)\n",
    "fig.show()"
   ]
  },
  {
   "cell_type": "code",
   "execution_count": 20,
   "metadata": {},
   "outputs": [
    {
     "name": "stdout",
     "output_type": "stream",
     "text": [
      "Sad = 262.575073242187500000000000000000\n",
      "Per element error: 8.75250244140625\n"
     ]
    }
   ],
   "source": [
    "#Compute reference using Numpy\n",
    "c_ref = np.dot(a, b)\n",
    "\n",
    "#Sum of absolute differences\n",
    "sad = np.sum(np.abs(c - c_ref))\n",
    "\n",
    "#Print result\n",
    "# print(\"C   = \", c)\n",
    "# print(\"Ref = \", c_ref)\n",
    "print(\"Sad = %.30f\" % sad)\n",
    "print(\"Per element error: \" + str(sad / test_size[1]))"
   ]
  },
  {
   "cell_type": "code",
   "execution_count": 21,
   "metadata": {},
   "outputs": [
    {
     "name": "stdout",
     "output_type": "stream",
     "text": [
      "============================= test session starts ==============================\n",
      "platform linux -- Python 3.6.6, pytest-3.8.2, py-1.6.0, pluggy-0.7.1 -- /usr/bin/python3\n",
      "cachedir: .pytest_cache\n",
      "rootdir: /home/ubuntu/jupyter_notebooks/Stefano_B/MilanoGPU2018/notebooks, inifile:\n",
      "collecting ... collected 1 item\n",
      "\n",
      "MatrixVectorTestingSingle.py::test_fpuMatrixVector <- <ipython-input-21-a6729241a7a8> "
     ]
    },
    {
     "name": "stderr",
     "output_type": "stream",
     "text": [
      "TIME create: 0.488758 ms\n",
      "TIME allocate: 0.456333 ms\n",
      "TIME kernel: 0.132799 ms\n",
      "TIME download: 0.382662 ms\n",
      "TIME create: 0.400305 ms\n",
      "TIME allocate: 0.582695 ms\n",
      "TIME kernel: 0.110149 ms\n",
      "TIME download: 0.251055 ms\n",
      "TIME create: 0.335693 ms\n",
      "TIME allocate: 0.699997 ms\n",
      "TIME kernel: 0.110865 ms\n",
      "TIME download: 0.248671 ms\n"
     ]
    },
    {
     "name": "stdout",
     "output_type": "stream",
     "text": [
      "FAILED [100%]\n",
      "\n",
      "=================================== FAILURES ===================================\n",
      "_____________________________ test_fpuMatrixVector _____________________________\n",
      "\n",
      "    def test_fpuMatrixVector():\n",
      "    \n",
      "        # Tests a matrix 1x1\n",
      "        a = np.ones((1,1), dtype=np.float32)\n",
      "        b = 2*np.ones((1,1), dtype=np.float32)\n",
      "        c = gpuMatrixVector(a,b)\n",
      "        assert c == pytest.approx(2.0)\n",
      "    \n",
      "        # Test the inner product\n",
      "        a = np.ones((1,2), dtype=np.float32)\n",
      "        b = 2*np.ones((2,1), dtype=np.float32)\n",
      "        c = gpuMatrixVector(a,b)\n",
      "        assert c == pytest.approx(4.0)\n",
      "    \n",
      "        # Test a general matrix\n",
      "        test_size = (4, 3)\n",
      "        a = np.random.random(test_size).astype(np.float32)\n",
      "        b = np.random.random((test_size[1], 1)).astype(np.float32)\n",
      "        c = gpuMatrixVector(a,b)\n",
      ">       assert c == pytest.approx(np.dot(a,b))\n",
      "E       AssertionError\n",
      "\n",
      "<ipython-input-21-a6729241a7a8>:23: AssertionError\n",
      "----------------------------- Captured stdout call -----------------------------\n",
      "Block size is (2, 1, 1)\n",
      "Grid size is (1, 1, 1)\n",
      "GPU code took 0.0004887580871582031 seconds\n",
      "GPU code took 0.0004563331604003906 seconds\n",
      "GPU code took 0.0001327991485595703 seconds\n",
      "GPU code took 0.0003826618194580078 seconds\n",
      "Block size is (2, 1, 1)\n",
      "Grid size is (1, 1, 1)\n",
      "GPU code took 0.00040030479431152344 seconds\n",
      "GPU code took 0.0005826950073242188 seconds\n",
      "GPU code took 0.00011014938354492188 seconds\n",
      "GPU code took 0.0002510547637939453 seconds\n",
      "Block size is (2, 1, 1)\n",
      "Grid size is (1, 1, 1)\n",
      "GPU code took 0.000335693359375 seconds\n",
      "GPU code took 0.0006999969482421875 seconds\n",
      "GPU code took 0.00011086463928222656 seconds\n",
      "GPU code took 0.0002486705780029297 seconds\n",
      "------------------------------ Captured log call -------------------------------\n",
      "Timer.py                    41 INFO     TIME create: 0.488758 ms\n",
      "Timer.py                    41 INFO     TIME allocate: 0.456333 ms\n",
      "Timer.py                    41 INFO     TIME kernel: 0.132799 ms\n",
      "Timer.py                    41 INFO     TIME download: 0.382662 ms\n",
      "Timer.py                    41 INFO     TIME create: 0.400305 ms\n",
      "Timer.py                    41 INFO     TIME allocate: 0.582695 ms\n",
      "Timer.py                    41 INFO     TIME kernel: 0.110149 ms\n",
      "Timer.py                    41 INFO     TIME download: 0.251055 ms\n",
      "Timer.py                    41 INFO     TIME create: 0.335693 ms\n",
      "Timer.py                    41 INFO     TIME allocate: 0.699997 ms\n",
      "Timer.py                    41 INFO     TIME kernel: 0.110865 ms\n",
      "Timer.py                    41 INFO     TIME download: 0.248671 ms\n",
      "=============================== warnings summary ===============================\n",
      "/home/ubuntu/.local/lib/python3.6/site-packages/ipykernel_launcher.py:31: DeprecationWarning: get() between arrays of different shape is deprecated and will be removed in PyCUDA 2017.x\n",
      "/home/ubuntu/.local/lib/python3.6/site-packages/ipykernel_launcher.py:31: DeprecationWarning: get() between arrays of different shape is deprecated and will be removed in PyCUDA 2017.x\n",
      "/home/ubuntu/.local/lib/python3.6/site-packages/ipykernel_launcher.py:31: DeprecationWarning: get() between arrays of different shape is deprecated and will be removed in PyCUDA 2017.x\n",
      "\n",
      "-- Docs: https://docs.pytest.org/en/latest/warnings.html\n",
      "===================== 1 failed, 3 warnings in 0.09 seconds =====================\n"
     ]
    },
    {
     "data": {
      "text/plain": [
       "1"
      ]
     },
     "execution_count": 21,
     "metadata": {},
     "output_type": "execute_result"
    }
   ],
   "source": [
    "# Let's define some tests: we create a function starting by \"test_\"\n",
    "# clear_tests() # this initializes the pytest framework\n",
    "\n",
    "def test_fpuMatrixVector():\n",
    "    \n",
    "    # Tests a matrix 1x1\n",
    "    a = np.ones((1,1), dtype=np.float32)\n",
    "    b = 2*np.ones((1,1), dtype=np.float32)\n",
    "    c = gpuMatrixVector(a,b)\n",
    "    assert c == pytest.approx(2.0)\n",
    "    \n",
    "    # Test the inner product\n",
    "    a = np.ones((1,2), dtype=np.float32)\n",
    "    b = 2*np.ones((2,1), dtype=np.float32)\n",
    "    c = gpuMatrixVector(a,b)\n",
    "    assert c == pytest.approx(4.0)\n",
    "    \n",
    "    # Test a general matrix\n",
    "    test_size = (4, 3)\n",
    "    a = np.random.random(test_size).astype(np.float32)\n",
    "    b = np.random.random((test_size[1], 1)).astype(np.float32)\n",
    "    c = gpuMatrixVector(a,b)\n",
    "    assert c == pytest.approx(np.dot(a,b))\n",
    "\n",
    "run_pytest(filename='MatrixVectorTestingSingle.ipynb', pytest_options=['-vvv'])\n",
    "\n",
    "                                                                "
   ]
  },
  {
   "cell_type": "code",
   "execution_count": 9,
   "metadata": {},
   "outputs": [
    {
     "name": "stderr",
     "output_type": "stream",
     "text": [
      "My Timer Tag 1: 0.029564 ms\n",
      "My Timer Tag 1: 0.572205 ms\n",
      "My Timer Tag 2: 0.387669 ms\n",
      "My Timer Tag 3: 0.142574 ms\n",
      "/home/ubuntu/.local/lib/python3.6/site-packages/ipykernel_launcher.py:31: DeprecationWarning: get() between arrays of different shape is deprecated and will be removed in PyCUDA 2017.x\n",
      "My Timer Tag 4: 0.469923 ms\n",
      "My Timer Tag 2: 9.338140 ms\n"
     ]
    },
    {
     "name": "stdout",
     "output_type": "stream",
     "text": [
      "Serial code took 2.956390380859375e-05 seconds\n",
      "Block size is (128, 1, 1)\n",
      "Grid size is (1, 1, 1)\n",
      "GPU code took 0.00057220458984375 seconds\n",
      "GPU code took 0.0003876686096191406 seconds\n",
      "GPU code took 0.00014257431030273438 seconds\n",
      "GPU code took 0.0004699230194091797 seconds\n",
      "GPU code took 0.009338140487670898 seconds\n"
     ]
    }
   ],
   "source": [
    "# SERIAL CODE\n",
    "with Timer(\"My Timer Tag 1\", logging.INFO) as t:\n",
    "    np.dot(a,b)\n",
    "print(\"Serial code took \" + str(t.secs) + \" seconds\")\n",
    "\n",
    "# PARALLEL CODE\n",
    "with Timer(\"My Timer Tag 2\", logging.INFO) as t:\n",
    "    gpuMatrixVector(a,b)\n",
    "print(\"GPU code took \" + str(t.secs) + \" seconds\")"
   ]
  },
  {
   "cell_type": "code",
   "execution_count": null,
   "metadata": {},
   "outputs": [],
   "source": []
  }
 ],
 "metadata": {
  "kernelspec": {
   "display_name": "Python 3",
   "language": "python",
   "name": "python3"
  },
  "language_info": {
   "codemirror_mode": {
    "name": "ipython",
    "version": 3
   },
   "file_extension": ".py",
   "mimetype": "text/x-python",
   "name": "python",
   "nbconvert_exporter": "python",
   "pygments_lexer": "ipython3",
   "version": "3.6.6"
  }
 },
 "nbformat": 4,
 "nbformat_minor": 2
}
