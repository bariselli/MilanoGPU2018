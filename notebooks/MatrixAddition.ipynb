{
 "cells": [
  {
   "cell_type": "markdown",
   "metadata": {},
   "source": [
    "# License\n",
    "\n",
    "    Jupyter notebook for accessing CUDA\n",
    "    Copyright (C) 2018 Andre.Brodtkorb@ifi.uio.no\n",
    "\n",
    "    This program is free software: you can redistribute it and/or modify\n",
    "    it under the terms of the GNU General Public License as published by\n",
    "    the Free Software Foundation, either version 3 of the License, or\n",
    "    (at your option) any later version.\n",
    "\n",
    "    This program is distributed in the hope that it will be useful,\n",
    "    but WITHOUT ANY WARRANTY; without even the implied warranty of\n",
    "    MERCHANTABILITY or FITNESS FOR A PARTICULAR PURPOSE.  See the\n",
    "    GNU General Public License for more details.\n",
    "\n",
    "    You should have received a copy of the GNU General Public License\n",
    "    along with this program.  If not, see <http://www.gnu.org/licenses/>."
   ]
  },
  {
   "cell_type": "code",
   "execution_count": 1,
   "metadata": {},
   "outputs": [],
   "source": [
    "#Lets have matplotlib \"inline\"\n",
    "%matplotlib inline\n",
    "\n",
    "#Import packages we need\n",
    "import numpy as np\n",
    "import pycuda.compiler as cuda_compiler\n",
    "from pycuda.gpuarray import GPUArray\n",
    "import pycuda.driver as cuda_driver\n",
    "\n",
    "from matplotlib import pyplot as plt"
   ]
  },
  {
   "cell_type": "code",
   "execution_count": 2,
   "metadata": {},
   "outputs": [],
   "source": [
    "#Initialize CUDA - must be first call to CUDA!\n",
    "cuda_driver.init()"
   ]
  },
  {
   "cell_type": "code",
   "execution_count": 3,
   "metadata": {},
   "outputs": [
    {
     "name": "stdout",
     "output_type": "stream",
     "text": [
      "Using 'Tesla K80'\n",
      " => compute capability: (3, 7)\n",
      " => memory: 11128 / 11441 MB available\n"
     ]
    }
   ],
   "source": [
    "#Create CUDA context\n",
    "cuda_device = cuda_driver.Device(0)\n",
    "print(\"Using '{:s}'\".format(cuda_device.name()))\n",
    "print(\" => compute capability: {:s}\".format(str(cuda_device.compute_capability())))\n",
    "context = cuda_device.make_context()\n",
    "free, total = cuda_driver.mem_get_info()\n",
    "print(\" => memory: {:d} / {:d} MB available\".format(int(free/(1024*1024)), int(total/(1024*1024))))"
   ]
  },
  {
   "cell_type": "code",
   "execution_count": 10,
   "metadata": {},
   "outputs": [
    {
     "name": "stdout",
     "output_type": "stream",
     "text": [
      "Seems fine\n",
      "\n"
     ]
    }
   ],
   "source": [
    "cuda_kernel = \"\"\"\n",
    "__global__ void addVectorKernel(float* c, float* a, float* b) {\n",
    "    unsigned int i = blockIdx.x*blockDim.x + threadIdx.x;\n",
    "    c[i] = a[i] + b[i];\n",
    "}\n",
    "\n",
    "__global__ void addMatrixKernel(float* c, float* a, float* b, int cols){\n",
    "    unsigned int i = blockIdx.x*blockDim.x + threadIdx.x;\n",
    "    unsigned int j = blockIdx.y*blockDim.y + threadIdx.y;\n",
    "    \n",
    "    // Some pseudo-code..\n",
    "    // c[j,i] = a[j,i] + b[j,i]\n",
    "    unsigned int k = j*cols + i; // linear index\n",
    "    \n",
    "    c[k] = a[k] + b[k];\n",
    "}\n",
    "\"\"\"\n",
    "module = cuda_compiler.SourceModule(cuda_kernel)\n",
    "# kernel = module.get_function(\"addVectorKernel\");\n",
    "kernel = module.get_function(\"addMatrixKernel\");\n",
    "print(\"Seems fine\\n\")\n"
   ]
  },
  {
   "cell_type": "code",
   "execution_count": 16,
   "metadata": {},
   "outputs": [
    {
     "data": {
      "image/png": "[encoded data removed]",
      "text/plain": [
       "<matplotlib.figure.Figure at 0x7fcd302d2d68>"
      ]
     },
     "metadata": {
      "needs_background": "light"
     },
     "output_type": "display_data"
    }
   ],
   "source": [
    "# THe one here is just CPU code..\n",
    "#Size of our test\n",
    "# test_size = (64, 128)\n",
    "test_size = (16, 24)\n",
    "# n = 50\n",
    "\n",
    "#Create test input / output data\n",
    "a = np.random.random(test_size).astype(np.float32)\n",
    "b = np.random.random(test_size).astype(np.float32)\n",
    "c = np.empty_like(a)\n",
    "\n",
    "# fig = plt.figure(figsize=(12,8))\n",
    "fig = plt.figure()\n",
    "plt.imshow(a)\n",
    "plt.colorbar()\n",
    "fig.show()"
   ]
  },
  {
   "cell_type": "raw",
   "metadata": {},
   "source": []
  },
  {
   "cell_type": "code",
   "execution_count": 42,
   "metadata": {},
   "outputs": [
    {
     "name": "stdout",
     "output_type": "stream",
     "text": [
      "(16, 24)\n"
     ]
    }
   ],
   "source": [
    "print(a.shape) # let's check what I'll send to the GPU... "
   ]
  },
  {
   "cell_type": "code",
   "execution_count": 43,
   "metadata": {},
   "outputs": [],
   "source": [
    "#Upload data to the device\n",
    "a_g = GPUArray(a.shape, np.float32) # create the variable\n",
    "b_g = GPUArray(b.shape, np.float32) # create the variable\n",
    "a_g.set(a) # put the value (import from CPU to GPU)\n",
    "b_g.set(b) # put the value (import from CPU to GPU)"
   ]
  },
  {
   "cell_type": "code",
   "execution_count": 44,
   "metadata": {},
   "outputs": [
    {
     "name": "stdout",
     "output_type": "stream",
     "text": [
      "(16, 24)\n"
     ]
    }
   ],
   "source": [
    "#Allocate output data\n",
    "c_g = GPUArray(c.shape, np.float32)\n",
    "print(c_g.shape) # test.."
   ]
  },
  {
   "cell_type": "code",
   "execution_count": 50,
   "metadata": {},
   "outputs": [
    {
     "name": "stdout",
     "output_type": "stream",
     "text": [
      "Domain size is (24, 16)\n",
      "Block size is (8, 8, 1)\n",
      "Grid size is (3, 2, 1)\n"
     ]
    }
   ],
   "source": [
    "# Let's create a couple of variables..\n",
    "# a.shape is [rows, columns] => [y, x]\n",
    "domain_size = (a.shape[1], a.shape[0]) # now the domain_size is [x,y]\n",
    "block_size = (8, 8, 1)\n",
    "# double shash // : integer division \n",
    "grid_size = (domain_size[0]//block_size[0], domain_size[1]//block_size[1], 1)\n",
    "print(\"Domain size is \" + str(domain_size))\n",
    "print(\"Block size is \" + str(block_size))\n",
    "print(\"Grid size is \" + str(grid_size))"
   ]
  },
  {
   "cell_type": "code",
   "execution_count": 51,
   "metadata": {},
   "outputs": [
    {
     "data": {
      "text/plain": [
       "array([[0.64903545, 1.230728  , 0.999541  , 0.38165197, 0.9421215 ,\n",
       "        0.7671041 , 0.59637123, 1.9304624 , 1.6516126 , 0.84641343,\n",
       "        1.070289  , 0.8194755 , 1.1059933 , 0.41026598, 0.63783294,\n",
       "        1.1175535 , 0.3007932 , 1.0978124 , 1.3216419 , 0.20970058,\n",
       "        0.94793326, 0.994747  , 1.0003256 , 0.75274557],\n",
       "       [0.6169826 , 0.72902966, 0.6410567 , 0.7288935 , 1.0256281 ,\n",
       "        0.44694322, 0.5314001 , 1.6116141 , 0.9948738 , 0.06941083,\n",
       "        1.0018632 , 0.9912374 , 0.73478556, 0.95129085, 1.5516837 ,\n",
       "        1.3881227 , 0.7773155 , 1.4414071 , 0.76839435, 0.711999  ,\n",
       "        0.7058031 , 0.40912786, 0.8755916 , 1.6141733 ],\n",
       "       [1.4371305 , 0.48609394, 0.47277448, 1.2137411 , 1.1776917 ,\n",
       "        1.1323987 , 1.1773882 , 1.2899029 , 1.1613115 , 1.5542676 ,\n",
       "        1.1413835 , 1.6895493 , 1.3364164 , 0.8810821 , 1.1483275 ,\n",
       "        1.2981863 , 1.0397979 , 0.67039144, 1.4319398 , 0.83830404,\n",
       "        1.0011518 , 1.3295101 , 0.5010029 , 1.7413459 ],\n",
       "       [1.4799483 , 1.442204  , 1.2002741 , 0.92698747, 0.6832366 ,\n",
       "        1.7707378 , 1.0460262 , 1.408762  , 1.1381397 , 1.5965083 ,\n",
       "        1.8302593 , 0.8925898 , 0.6166368 , 0.99991107, 0.8908415 ,\n",
       "        1.4960546 , 1.1718416 , 1.3266996 , 1.1184709 , 1.1931945 ,\n",
       "        1.2485747 , 0.1661868 , 1.6909288 , 0.9438494 ],\n",
       "       [1.2937804 , 1.4459343 , 0.5088018 , 1.4033656 , 0.43286854,\n",
       "        1.4979854 , 1.7725968 , 1.750686  , 1.5525327 , 1.0482079 ,\n",
       "        0.7951989 , 1.3114238 , 0.60894966, 0.6810639 , 1.5839467 ,\n",
       "        0.5402308 , 1.5773519 , 1.4794862 , 1.1448925 , 0.53361946,\n",
       "        1.3607161 , 0.96993536, 0.5581683 , 0.7906486 ],\n",
       "       [0.98081696, 0.11925815, 0.47247055, 0.9080011 , 1.2595049 ,\n",
       "        1.0040576 , 1.1305715 , 1.2607422 , 1.0902213 , 0.6142213 ,\n",
       "        1.4740615 , 1.6831858 , 1.331384  , 0.76761806, 0.81365025,\n",
       "        1.5925593 , 0.90480316, 1.1017311 , 1.3757029 , 0.91937864,\n",
       "        1.524615  , 0.36160657, 0.9680886 , 0.6455787 ],\n",
       "       [1.0831118 , 1.1156886 , 1.5131512 , 0.86703   , 0.7817588 ,\n",
       "        0.635159  , 1.0572468 , 1.2560898 , 1.5049989 , 1.4723384 ,\n",
       "        0.20232879, 0.86552596, 0.6421758 , 0.5807184 , 0.9042592 ,\n",
       "        1.4503433 , 1.5242647 , 0.76383215, 1.3297642 , 1.1332583 ,\n",
       "        1.2216048 , 1.0556166 , 1.4458759 , 1.0349344 ],\n",
       "       [1.1735513 , 1.07089   , 0.9001479 , 1.1953409 , 0.43415713,\n",
       "        0.34921038, 1.2127879 , 1.2252133 , 1.9885473 , 0.52876234,\n",
       "        0.8089305 , 0.65382004, 0.5144911 , 1.5178447 , 1.5721354 ,\n",
       "        1.2359818 , 0.9244952 , 1.1432954 , 0.69094384, 0.4066014 ,\n",
       "        0.58304566, 0.21125925, 0.8936685 , 0.9622    ],\n",
       "       [0.69913524, 0.357819  , 1.1411954 , 0.5636309 , 1.2849293 ,\n",
       "        0.6653194 , 1.0340834 , 1.1354071 , 0.5382434 , 1.2644105 ,\n",
       "        0.79740596, 0.97721267, 0.54692614, 1.1668589 , 1.2963961 ,\n",
       "        0.5001337 , 1.197648  , 1.7810583 , 1.4188873 , 0.62519735,\n",
       "        1.0914531 , 1.3029077 , 0.7306562 , 0.6282402 ],\n",
       "       [1.2161145 , 0.9324324 , 1.1352232 , 0.77505714, 0.6285065 ,\n",
       "        0.23080319, 0.99586844, 1.5325222 , 1.0997481 , 0.4381749 ,\n",
       "        1.4443722 , 0.56853473, 1.9035128 , 0.8134304 , 1.0817317 ,\n",
       "        1.7932228 , 0.36360252, 1.0280312 , 1.8442776 , 0.37631443,\n",
       "        0.35564575, 1.2780156 , 1.2194941 , 0.8458819 ],\n",
       "       [0.3577595 , 0.8366326 , 1.4771898 , 1.1685768 , 0.86888784,\n",
       "        1.5798814 , 0.71959543, 0.87160504, 1.1450872 , 0.49575853,\n",
       "        1.0832436 , 0.28590414, 1.2732644 , 0.6389704 , 1.3166078 ,\n",
       "        1.0504713 , 0.7385478 , 0.6399368 , 0.8243701 , 1.1470401 ,\n",
       "        1.3662386 , 0.6852522 , 0.8815304 , 0.72478235],\n",
       "       [0.87158763, 1.7393448 , 1.1560141 , 1.3060995 , 0.9480518 ,\n",
       "        1.2305179 , 1.415267  , 1.1159637 , 0.8163901 , 1.7399328 ,\n",
       "        1.2818279 , 1.3938848 , 0.83824795, 1.0051376 , 0.53414696,\n",
       "        1.5826682 , 1.0404333 , 1.0648113 , 0.93059146, 0.7998599 ,\n",
       "        0.90823895, 0.97103685, 0.42648828, 1.2199628 ],\n",
       "       [0.74366724, 1.6305044 , 1.3779184 , 1.1325159 , 0.43391395,\n",
       "        1.3738315 , 1.5317657 , 0.762751  , 1.3588226 , 0.7019198 ,\n",
       "        1.7681081 , 0.6483696 , 1.4472001 , 0.9827376 , 1.2825714 ,\n",
       "        1.1237102 , 0.97929794, 0.7416698 , 1.3739954 , 1.2962086 ,\n",
       "        0.41232207, 1.1523321 , 0.69582164, 0.3087285 ],\n",
       "       [1.4453833 , 0.93662524, 1.6126047 , 1.0008662 , 1.1875672 ,\n",
       "        0.99240744, 1.09404   , 0.9488728 , 1.0156873 , 1.3326008 ,\n",
       "        0.08437555, 0.5258147 , 0.8061397 , 0.83653665, 1.2485368 ,\n",
       "        0.97700167, 0.89186203, 1.7396834 , 1.1547296 , 0.8170425 ,\n",
       "        0.7436778 , 1.2581809 , 0.97642434, 1.1511462 ],\n",
       "       [0.6432977 , 1.0498343 , 0.5120458 , 0.3648146 , 0.34172493,\n",
       "        1.3151428 , 0.85556805, 0.6062511 , 1.180422  , 0.75424135,\n",
       "        1.0366801 , 1.3198397 , 1.4632056 , 1.5423872 , 0.7553097 ,\n",
       "        0.47275996, 0.7097045 , 1.0087968 , 0.40219188, 0.6770898 ,\n",
       "        0.44452056, 0.83372307, 1.1567292 , 0.30049425],\n",
       "       [0.7026836 , 1.5311506 , 1.3590385 , 1.6395924 , 1.4246504 ,\n",
       "        1.0426493 , 1.3418581 , 1.3145971 , 0.67765284, 0.93256474,\n",
       "        0.8131214 , 1.4836599 , 0.87674236, 1.0971851 , 1.2842261 ,\n",
       "        0.85807955, 0.94192755, 0.9336475 , 0.5132861 , 1.0543358 ,\n",
       "        1.0460372 , 0.56862885, 0.38234097, 0.9655318 ]], dtype=float32)"
      ]
     },
     "execution_count": 51,
     "metadata": {},
     "output_type": "execute_result"
    }
   ],
   "source": [
    "#Execute program on device\n",
    "# ATTENTION! SPECIFY int32!!!\n",
    "kernel(c_g, a_g, b_g, np.int32(domain_size[0]), block=block_size, grid=grid_size)\n",
    "\n",
    "#Copy data from device to host\n",
    "c_g.get(c)"
   ]
  },
  {
   "cell_type": "code",
   "execution_count": 52,
   "metadata": {},
   "outputs": [
    {
     "name": "stdout",
     "output_type": "stream",
     "text": [
      "C   =  [[0.64903545 1.230728   0.999541   0.38165197 0.9421215  0.7671041\n",
      "  0.59637123 1.9304624  1.6516126  0.84641343 1.070289   0.8194755\n",
      "  1.1059933  0.41026598 0.63783294 1.1175535  0.3007932  1.0978124\n",
      "  1.3216419  0.20970058 0.94793326 0.994747   1.0003256  0.75274557]\n",
      " [0.6169826  0.72902966 0.6410567  0.7288935  1.0256281  0.44694322\n",
      "  0.5314001  1.6116141  0.9948738  0.06941083 1.0018632  0.9912374\n",
      "  0.73478556 0.95129085 1.5516837  1.3881227  0.7773155  1.4414071\n",
      "  0.76839435 0.711999   0.7058031  0.40912786 0.8755916  1.6141733 ]\n",
      " [1.4371305  0.48609394 0.47277448 1.2137411  1.1776917  1.1323987\n",
      "  1.1773882  1.2899029  1.1613115  1.5542676  1.1413835  1.6895493\n",
      "  1.3364164  0.8810821  1.1483275  1.2981863  1.0397979  0.67039144\n",
      "  1.4319398  0.83830404 1.0011518  1.3295101  0.5010029  1.7413459 ]\n",
      " [1.4799483  1.442204   1.2002741  0.92698747 0.6832366  1.7707378\n",
      "  1.0460262  1.408762   1.1381397  1.5965083  1.8302593  0.8925898\n",
      "  0.6166368  0.99991107 0.8908415  1.4960546  1.1718416  1.3266996\n",
      "  1.1184709  1.1931945  1.2485747  0.1661868  1.6909288  0.9438494 ]\n",
      " [1.2937804  1.4459343  0.5088018  1.4033656  0.43286854 1.4979854\n",
      "  1.7725968  1.750686   1.5525327  1.0482079  0.7951989  1.3114238\n",
      "  0.60894966 0.6810639  1.5839467  0.5402308  1.5773519  1.4794862\n",
      "  1.1448925  0.53361946 1.3607161  0.96993536 0.5581683  0.7906486 ]\n",
      " [0.98081696 0.11925815 0.47247055 0.9080011  1.2595049  1.0040576\n",
      "  1.1305715  1.2607422  1.0902213  0.6142213  1.4740615  1.6831858\n",
      "  1.331384   0.76761806 0.81365025 1.5925593  0.90480316 1.1017311\n",
      "  1.3757029  0.91937864 1.524615   0.36160657 0.9680886  0.6455787 ]\n",
      " [1.0831118  1.1156886  1.5131512  0.86703    0.7817588  0.635159\n",
      "  1.0572468  1.2560898  1.5049989  1.4723384  0.20232879 0.86552596\n",
      "  0.6421758  0.5807184  0.9042592  1.4503433  1.5242647  0.76383215\n",
      "  1.3297642  1.1332583  1.2216048  1.0556166  1.4458759  1.0349344 ]\n",
      " [1.1735513  1.07089    0.9001479  1.1953409  0.43415713 0.34921038\n",
      "  1.2127879  1.2252133  1.9885473  0.52876234 0.8089305  0.65382004\n",
      "  0.5144911  1.5178447  1.5721354  1.2359818  0.9244952  1.1432954\n",
      "  0.69094384 0.4066014  0.58304566 0.21125925 0.8936685  0.9622    ]\n",
      " [0.69913524 0.357819   1.1411954  0.5636309  1.2849293  0.6653194\n",
      "  1.0340834  1.1354071  0.5382434  1.2644105  0.79740596 0.97721267\n",
      "  0.54692614 1.1668589  1.2963961  0.5001337  1.197648   1.7810583\n",
      "  1.4188873  0.62519735 1.0914531  1.3029077  0.7306562  0.6282402 ]\n",
      " [1.2161145  0.9324324  1.1352232  0.77505714 0.6285065  0.23080319\n",
      "  0.99586844 1.5325222  1.0997481  0.4381749  1.4443722  0.56853473\n",
      "  1.9035128  0.8134304  1.0817317  1.7932228  0.36360252 1.0280312\n",
      "  1.8442776  0.37631443 0.35564575 1.2780156  1.2194941  0.8458819 ]\n",
      " [0.3577595  0.8366326  1.4771898  1.1685768  0.86888784 1.5798814\n",
      "  0.71959543 0.87160504 1.1450872  0.49575853 1.0832436  0.28590414\n",
      "  1.2732644  0.6389704  1.3166078  1.0504713  0.7385478  0.6399368\n",
      "  0.8243701  1.1470401  1.3662386  0.6852522  0.8815304  0.72478235]\n",
      " [0.87158763 1.7393448  1.1560141  1.3060995  0.9480518  1.2305179\n",
      "  1.415267   1.1159637  0.8163901  1.7399328  1.2818279  1.3938848\n",
      "  0.83824795 1.0051376  0.53414696 1.5826682  1.0404333  1.0648113\n",
      "  0.93059146 0.7998599  0.90823895 0.97103685 0.42648828 1.2199628 ]\n",
      " [0.74366724 1.6305044  1.3779184  1.1325159  0.43391395 1.3738315\n",
      "  1.5317657  0.762751   1.3588226  0.7019198  1.7681081  0.6483696\n",
      "  1.4472001  0.9827376  1.2825714  1.1237102  0.97929794 0.7416698\n",
      "  1.3739954  1.2962086  0.41232207 1.1523321  0.69582164 0.3087285 ]\n",
      " [1.4453833  0.93662524 1.6126047  1.0008662  1.1875672  0.99240744\n",
      "  1.09404    0.9488728  1.0156873  1.3326008  0.08437555 0.5258147\n",
      "  0.8061397  0.83653665 1.2485368  0.97700167 0.89186203 1.7396834\n",
      "  1.1547296  0.8170425  0.7436778  1.2581809  0.97642434 1.1511462 ]\n",
      " [0.6432977  1.0498343  0.5120458  0.3648146  0.34172493 1.3151428\n",
      "  0.85556805 0.6062511  1.180422   0.75424135 1.0366801  1.3198397\n",
      "  1.4632056  1.5423872  0.7553097  0.47275996 0.7097045  1.0087968\n",
      "  0.40219188 0.6770898  0.44452056 0.83372307 1.1567292  0.30049425]\n",
      " [0.7026836  1.5311506  1.3590385  1.6395924  1.4246504  1.0426493\n",
      "  1.3418581  1.3145971  0.67765284 0.93256474 0.8131214  1.4836599\n",
      "  0.87674236 1.0971851  1.2842261  0.85807955 0.94192755 0.9336475\n",
      "  0.5132861  1.0543358  1.0460372  0.56862885 0.38234097 0.9655318 ]]\n",
      "Ref =  [[0.64903545 1.230728   0.999541   0.38165197 0.9421215  0.7671041\n",
      "  0.59637123 1.9304624  1.6516126  0.84641343 1.070289   0.8194755\n",
      "  1.1059933  0.41026598 0.63783294 1.1175535  0.3007932  1.0978124\n",
      "  1.3216419  0.20970058 0.94793326 0.994747   1.0003256  0.75274557]\n",
      " [0.6169826  0.72902966 0.6410567  0.7288935  1.0256281  0.44694322\n",
      "  0.5314001  1.6116141  0.9948738  0.06941083 1.0018632  0.9912374\n",
      "  0.73478556 0.95129085 1.5516837  1.3881227  0.7773155  1.4414071\n",
      "  0.76839435 0.711999   0.7058031  0.40912786 0.8755916  1.6141733 ]\n",
      " [1.4371305  0.48609394 0.47277448 1.2137411  1.1776917  1.1323987\n",
      "  1.1773882  1.2899029  1.1613115  1.5542676  1.1413835  1.6895493\n",
      "  1.3364164  0.8810821  1.1483275  1.2981863  1.0397979  0.67039144\n",
      "  1.4319398  0.83830404 1.0011518  1.3295101  0.5010029  1.7413459 ]\n",
      " [1.4799483  1.442204   1.2002741  0.92698747 0.6832366  1.7707378\n",
      "  1.0460262  1.408762   1.1381397  1.5965083  1.8302593  0.8925898\n",
      "  0.6166368  0.99991107 0.8908415  1.4960546  1.1718416  1.3266996\n",
      "  1.1184709  1.1931945  1.2485747  0.1661868  1.6909288  0.9438494 ]\n",
      " [1.2937804  1.4459343  0.5088018  1.4033656  0.43286854 1.4979854\n",
      "  1.7725968  1.750686   1.5525327  1.0482079  0.7951989  1.3114238\n",
      "  0.60894966 0.6810639  1.5839467  0.5402308  1.5773519  1.4794862\n",
      "  1.1448925  0.53361946 1.3607161  0.96993536 0.5581683  0.7906486 ]\n",
      " [0.98081696 0.11925815 0.47247055 0.9080011  1.2595049  1.0040576\n",
      "  1.1305715  1.2607422  1.0902213  0.6142213  1.4740615  1.6831858\n",
      "  1.331384   0.76761806 0.81365025 1.5925593  0.90480316 1.1017311\n",
      "  1.3757029  0.91937864 1.524615   0.36160657 0.9680886  0.6455787 ]\n",
      " [1.0831118  1.1156886  1.5131512  0.86703    0.7817588  0.635159\n",
      "  1.0572468  1.2560898  1.5049989  1.4723384  0.20232879 0.86552596\n",
      "  0.6421758  0.5807184  0.9042592  1.4503433  1.5242647  0.76383215\n",
      "  1.3297642  1.1332583  1.2216048  1.0556166  1.4458759  1.0349344 ]\n",
      " [1.1735513  1.07089    0.9001479  1.1953409  0.43415713 0.34921038\n",
      "  1.2127879  1.2252133  1.9885473  0.52876234 0.8089305  0.65382004\n",
      "  0.5144911  1.5178447  1.5721354  1.2359818  0.9244952  1.1432954\n",
      "  0.69094384 0.4066014  0.58304566 0.21125925 0.8936685  0.9622    ]\n",
      " [0.69913524 0.357819   1.1411954  0.5636309  1.2849293  0.6653194\n",
      "  1.0340834  1.1354071  0.5382434  1.2644105  0.79740596 0.97721267\n",
      "  0.54692614 1.1668589  1.2963961  0.5001337  1.197648   1.7810583\n",
      "  1.4188873  0.62519735 1.0914531  1.3029077  0.7306562  0.6282402 ]\n",
      " [1.2161145  0.9324324  1.1352232  0.77505714 0.6285065  0.23080319\n",
      "  0.99586844 1.5325222  1.0997481  0.4381749  1.4443722  0.56853473\n",
      "  1.9035128  0.8134304  1.0817317  1.7932228  0.36360252 1.0280312\n",
      "  1.8442776  0.37631443 0.35564575 1.2780156  1.2194941  0.8458819 ]\n",
      " [0.3577595  0.8366326  1.4771898  1.1685768  0.86888784 1.5798814\n",
      "  0.71959543 0.87160504 1.1450872  0.49575853 1.0832436  0.28590414\n",
      "  1.2732644  0.6389704  1.3166078  1.0504713  0.7385478  0.6399368\n",
      "  0.8243701  1.1470401  1.3662386  0.6852522  0.8815304  0.72478235]\n",
      " [0.87158763 1.7393448  1.1560141  1.3060995  0.9480518  1.2305179\n",
      "  1.415267   1.1159637  0.8163901  1.7399328  1.2818279  1.3938848\n",
      "  0.83824795 1.0051376  0.53414696 1.5826682  1.0404333  1.0648113\n",
      "  0.93059146 0.7998599  0.90823895 0.97103685 0.42648828 1.2199628 ]\n",
      " [0.74366724 1.6305044  1.3779184  1.1325159  0.43391395 1.3738315\n",
      "  1.5317657  0.762751   1.3588226  0.7019198  1.7681081  0.6483696\n",
      "  1.4472001  0.9827376  1.2825714  1.1237102  0.97929794 0.7416698\n",
      "  1.3739954  1.2962086  0.41232207 1.1523321  0.69582164 0.3087285 ]\n",
      " [1.4453833  0.93662524 1.6126047  1.0008662  1.1875672  0.99240744\n",
      "  1.09404    0.9488728  1.0156873  1.3326008  0.08437555 0.5258147\n",
      "  0.8061397  0.83653665 1.2485368  0.97700167 0.89186203 1.7396834\n",
      "  1.1547296  0.8170425  0.7436778  1.2581809  0.97642434 1.1511462 ]\n",
      " [0.6432977  1.0498343  0.5120458  0.3648146  0.34172493 1.3151428\n",
      "  0.85556805 0.6062511  1.180422   0.75424135 1.0366801  1.3198397\n",
      "  1.4632056  1.5423872  0.7553097  0.47275996 0.7097045  1.0087968\n",
      "  0.40219188 0.6770898  0.44452056 0.83372307 1.1567292  0.30049425]\n",
      " [0.7026836  1.5311506  1.3590385  1.6395924  1.4246504  1.0426493\n",
      "  1.3418581  1.3145971  0.67765284 0.93256474 0.8131214  1.4836599\n",
      "  0.87674236 1.0971851  1.2842261  0.85807955 0.94192755 0.9336475\n",
      "  0.5132861  1.0543358  1.0460372  0.56862885 0.38234097 0.9655318 ]]\n",
      "Sad =  0.0\n"
     ]
    }
   ],
   "source": [
    "#Compute reference using Numpy\n",
    "c_ref = a + b\n",
    "\n",
    "#Print result\n",
    "print(\"C   = \", c)\n",
    "print(\"Ref = \", c_ref)\n",
    "print(\"Sad = \", np.sum(np.abs(c - c_ref)))"
   ]
  },
  {
   "cell_type": "code",
   "execution_count": 53,
   "metadata": {},
   "outputs": [
    {
     "data": {
      "text/plain": [
       "<matplotlib.image.AxesImage at 0x7fcd17f57b00>"
      ]
     },
     "execution_count": 53,
     "metadata": {},
     "output_type": "execute_result"
    },
    {
     "data": {
      "image/png": "[encoded data removed]",
      "text/plain": [
       "<matplotlib.figure.Figure at 0x7fcd302d2518>"
      ]
     },
     "metadata": {
      "needs_background": "light"
     },
     "output_type": "display_data"
    }
   ],
   "source": [
    "plt.figure()\n",
    "plt.subplot(1,2,1)\n",
    "plt.imshow(c)\n",
    "plt.subplot(1,2,2)\n",
    "plt.imshow(c_ref)\n",
    "#plt.plot(c, '+r')\n",
    "#plt.plot(c_ref, 'xb')"
   ]
  },
  {
   "cell_type": "code",
   "execution_count": null,
   "metadata": {},
   "outputs": [],
   "source": []
  },
  {
   "cell_type": "code",
   "execution_count": null,
   "metadata": {},
   "outputs": [],
   "source": []
  }
 ],
 "metadata": {
  "kernelspec": {
   "display_name": "Python 3",
   "language": "python",
   "name": "python3"
  },
  "language_info": {
   "codemirror_mode": {
    "name": "ipython",
    "version": 3
   },
   "file_extension": ".py",
   "mimetype": "text/x-python",
   "name": "python",
   "nbconvert_exporter": "python",
   "pygments_lexer": "ipython3",
   "version": "3.6.6"
  }
 },
 "nbformat": 4,
 "nbformat_minor": 2
}
